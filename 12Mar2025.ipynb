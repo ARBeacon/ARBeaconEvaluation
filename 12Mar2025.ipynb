{
 "cells": [
  {
   "cell_type": "code",
   "execution_count": 1,
   "metadata": {},
   "outputs": [],
   "source": [
    "LOG_PATH = \"Logs/12Mar2025\"\n",
    "\n",
    "import os, fnmatch\n",
    "def find_uwb_scanner_logs(directory):\n",
    "    matching_files = []\n",
    "    for root, _, files in os.walk(directory):\n",
    "        for filename in files:\n",
    "            if fnmatch.fnmatch(filename, '*-uwb-scanner-log.json'):\n",
    "                matching_files.append(os.path.join(root, filename))\n",
    "    \n",
    "    return matching_files\n",
    "\n",
    "scans = []\n",
    "import json\n",
    "for file_path in find_uwb_scanner_logs(LOG_PATH):\n",
    "    with open(file_path, 'r') as json_file:\n",
    "            scan = json.load(json_file)\n",
    "    scans.append(scan)"
   ]
  },
  {
   "cell_type": "code",
   "execution_count": 2,
   "metadata": {},
   "outputs": [
    {
     "data": {
      "text/plain": [
       "[{'timestamp': 1741771114.0298629,\n",
       "  'label': 'Beacon Location Update',\n",
       "  'content': {'beaconName': 'DWM3001CDK (8449B511)',\n",
       "   'position': [0.32563356, -0.5829439, -1.0706218]}},\n",
       " {'content': {'beaconName': 'DWM3001CDK (8449B511)',\n",
       "   'position': [0.32563356, -0.5829439, -1.0706218]},\n",
       "  'timestamp': 1741771114.058295,\n",
       "  'label': 'Beacon Location Update'},\n",
       " {'content': {'beaconName': 'DWM3001CDK (8449B511)',\n",
       "   'position': [0.32563356, -0.5829439, -1.0706218]},\n",
       "  'timestamp': 1741771114.059287,\n",
       "  'label': 'Beacon Location Update'}]"
      ]
     },
     "execution_count": 2,
     "metadata": {},
     "output_type": "execute_result"
    }
   ],
   "source": [
    "scan = scans[0]\n",
    "scan[17:20]"
   ]
  },
  {
   "cell_type": "code",
   "execution_count": 7,
   "metadata": {},
   "outputs": [
    {
     "data": {
      "text/plain": [
       "6600"
      ]
     },
     "execution_count": 7,
     "metadata": {},
     "output_type": "execute_result"
    }
   ],
   "source": [
    "scan_filtered = list(filter(lambda x: x['label'] == 'Beacon Location Update', scan))\n",
    "len(scan_filtered)"
   ]
  },
  {
   "cell_type": "code",
   "execution_count": null,
   "metadata": {},
   "outputs": [
    {
     "data": {
      "text/html": [
       "<div>\n",
       "<style scoped>\n",
       "    .dataframe tbody tr th:only-of-type {\n",
       "        vertical-align: middle;\n",
       "    }\n",
       "\n",
       "    .dataframe tbody tr th {\n",
       "        vertical-align: top;\n",
       "    }\n",
       "\n",
       "    .dataframe thead th {\n",
       "        text-align: right;\n",
       "    }\n",
       "</style>\n",
       "<table border=\"1\" class=\"dataframe\">\n",
       "  <thead>\n",
       "    <tr style=\"text-align: right;\">\n",
       "      <th></th>\n",
       "      <th>timestamp</th>\n",
       "      <th>x</th>\n",
       "      <th>y</th>\n",
       "      <th>z</th>\n",
       "    </tr>\n",
       "  </thead>\n",
       "  <tbody>\n",
       "    <tr>\n",
       "      <th>10</th>\n",
       "      <td>0.171083</td>\n",
       "      <td>0.325634</td>\n",
       "      <td>-0.582944</td>\n",
       "      <td>-1.070622</td>\n",
       "    </tr>\n",
       "    <tr>\n",
       "      <th>11</th>\n",
       "      <td>0.186055</td>\n",
       "      <td>0.325634</td>\n",
       "      <td>-0.582944</td>\n",
       "      <td>-1.070622</td>\n",
       "    </tr>\n",
       "    <tr>\n",
       "      <th>12</th>\n",
       "      <td>0.210863</td>\n",
       "      <td>0.325634</td>\n",
       "      <td>-0.582944</td>\n",
       "      <td>-1.070622</td>\n",
       "    </tr>\n",
       "    <tr>\n",
       "      <th>13</th>\n",
       "      <td>0.218246</td>\n",
       "      <td>0.325634</td>\n",
       "      <td>-0.582944</td>\n",
       "      <td>-1.070622</td>\n",
       "    </tr>\n",
       "    <tr>\n",
       "      <th>14</th>\n",
       "      <td>0.244604</td>\n",
       "      <td>0.325634</td>\n",
       "      <td>-0.582944</td>\n",
       "      <td>-1.070622</td>\n",
       "    </tr>\n",
       "    <tr>\n",
       "      <th>...</th>\n",
       "      <td>...</td>\n",
       "      <td>...</td>\n",
       "      <td>...</td>\n",
       "      <td>...</td>\n",
       "    </tr>\n",
       "    <tr>\n",
       "      <th>6595</th>\n",
       "      <td>100.249770</td>\n",
       "      <td>0.011841</td>\n",
       "      <td>-1.045065</td>\n",
       "      <td>-0.741532</td>\n",
       "    </tr>\n",
       "    <tr>\n",
       "      <th>6596</th>\n",
       "      <td>100.250006</td>\n",
       "      <td>0.011841</td>\n",
       "      <td>-1.045065</td>\n",
       "      <td>-0.741532</td>\n",
       "    </tr>\n",
       "    <tr>\n",
       "      <th>6597</th>\n",
       "      <td>100.250303</td>\n",
       "      <td>0.011841</td>\n",
       "      <td>-1.045065</td>\n",
       "      <td>-0.741532</td>\n",
       "    </tr>\n",
       "    <tr>\n",
       "      <th>6598</th>\n",
       "      <td>100.250590</td>\n",
       "      <td>0.011841</td>\n",
       "      <td>-1.045065</td>\n",
       "      <td>-0.741532</td>\n",
       "    </tr>\n",
       "    <tr>\n",
       "      <th>6599</th>\n",
       "      <td>100.250858</td>\n",
       "      <td>0.011841</td>\n",
       "      <td>-1.045065</td>\n",
       "      <td>-0.741532</td>\n",
       "    </tr>\n",
       "  </tbody>\n",
       "</table>\n",
       "<p>6590 rows × 4 columns</p>\n",
       "</div>"
      ],
      "text/plain": [
       "       timestamp         x         y         z\n",
       "10      0.171083  0.325634 -0.582944 -1.070622\n",
       "11      0.186055  0.325634 -0.582944 -1.070622\n",
       "12      0.210863  0.325634 -0.582944 -1.070622\n",
       "13      0.218246  0.325634 -0.582944 -1.070622\n",
       "14      0.244604  0.325634 -0.582944 -1.070622\n",
       "...          ...       ...       ...       ...\n",
       "6595  100.249770  0.011841 -1.045065 -0.741532\n",
       "6596  100.250006  0.011841 -1.045065 -0.741532\n",
       "6597  100.250303  0.011841 -1.045065 -0.741532\n",
       "6598  100.250590  0.011841 -1.045065 -0.741532\n",
       "6599  100.250858  0.011841 -1.045065 -0.741532\n",
       "\n",
       "[6590 rows x 4 columns]"
      ]
     },
     "execution_count": 13,
     "metadata": {},
     "output_type": "execute_result"
    }
   ],
   "source": [
    "import numpy as np\n",
    "import pandas as pd\n",
    "\n",
    "timestamps = np.full(len(scan_filtered), np.nan)\n",
    "xs = np.full(len(scan_filtered), np.nan)\n",
    "ys = np.full(len(scan_filtered), np.nan)\n",
    "zs = np.full(len(scan_filtered), np.nan)\n",
    "for i, entry in enumerate(scan_filtered):\n",
    "    timestamps[i] = entry['timestamp']\n",
    "    if 'position' not in entry['content']:\n",
    "        continue\n",
    "    position = entry['content']['position']\n",
    "    xs[i] = position[0]\n",
    "    ys[i] = position[1]\n",
    "    zs[i] = position[2]\n",
    "\n",
    "timestamps = timestamps - min(timestamps)\n",
    "\n",
    "df = pd.DataFrame({'timestamp': timestamps, 'x': xs, 'y': ys, 'z': zs})\n",
    "df = df.dropna()\n",
    "df"
   ]
  },
  {
   "cell_type": "code",
   "execution_count": 15,
   "metadata": {},
   "outputs": [
    {
     "data": {
      "text/html": [
       "<div>\n",
       "<style scoped>\n",
       "    .dataframe tbody tr th:only-of-type {\n",
       "        vertical-align: middle;\n",
       "    }\n",
       "\n",
       "    .dataframe tbody tr th {\n",
       "        vertical-align: top;\n",
       "    }\n",
       "\n",
       "    .dataframe thead th {\n",
       "        text-align: right;\n",
       "    }\n",
       "</style>\n",
       "<table border=\"1\" class=\"dataframe\">\n",
       "  <thead>\n",
       "    <tr style=\"text-align: right;\">\n",
       "      <th></th>\n",
       "      <th>timestamp</th>\n",
       "      <th>diff</th>\n",
       "    </tr>\n",
       "  </thead>\n",
       "  <tbody>\n",
       "    <tr>\n",
       "      <th>10</th>\n",
       "      <td>0.171083</td>\n",
       "      <td>NaN</td>\n",
       "    </tr>\n",
       "    <tr>\n",
       "      <th>11</th>\n",
       "      <td>0.186055</td>\n",
       "      <td>0.0</td>\n",
       "    </tr>\n",
       "    <tr>\n",
       "      <th>12</th>\n",
       "      <td>0.210863</td>\n",
       "      <td>0.0</td>\n",
       "    </tr>\n",
       "    <tr>\n",
       "      <th>13</th>\n",
       "      <td>0.218246</td>\n",
       "      <td>0.0</td>\n",
       "    </tr>\n",
       "    <tr>\n",
       "      <th>14</th>\n",
       "      <td>0.244604</td>\n",
       "      <td>0.0</td>\n",
       "    </tr>\n",
       "    <tr>\n",
       "      <th>...</th>\n",
       "      <td>...</td>\n",
       "      <td>...</td>\n",
       "    </tr>\n",
       "    <tr>\n",
       "      <th>6595</th>\n",
       "      <td>100.249770</td>\n",
       "      <td>0.0</td>\n",
       "    </tr>\n",
       "    <tr>\n",
       "      <th>6596</th>\n",
       "      <td>100.250006</td>\n",
       "      <td>0.0</td>\n",
       "    </tr>\n",
       "    <tr>\n",
       "      <th>6597</th>\n",
       "      <td>100.250303</td>\n",
       "      <td>0.0</td>\n",
       "    </tr>\n",
       "    <tr>\n",
       "      <th>6598</th>\n",
       "      <td>100.250590</td>\n",
       "      <td>0.0</td>\n",
       "    </tr>\n",
       "    <tr>\n",
       "      <th>6599</th>\n",
       "      <td>100.250858</td>\n",
       "      <td>0.0</td>\n",
       "    </tr>\n",
       "  </tbody>\n",
       "</table>\n",
       "<p>6590 rows × 2 columns</p>\n",
       "</div>"
      ],
      "text/plain": [
       "       timestamp  diff\n",
       "10      0.171083   NaN\n",
       "11      0.186055   0.0\n",
       "12      0.210863   0.0\n",
       "13      0.218246   0.0\n",
       "14      0.244604   0.0\n",
       "...          ...   ...\n",
       "6595  100.249770   0.0\n",
       "6596  100.250006   0.0\n",
       "6597  100.250303   0.0\n",
       "6598  100.250590   0.0\n",
       "6599  100.250858   0.0\n",
       "\n",
       "[6590 rows x 2 columns]"
      ]
     },
     "execution_count": 15,
     "metadata": {},
     "output_type": "execute_result"
    }
   ],
   "source": [
    "df['diff'] = np.sqrt((df['x'] - df['x'].shift(1))**2 + (df['y'] - df['y'].shift(1))**2 + (df['z'] - df['z'].shift(1))**2)\n",
    "df = df[['timestamp', 'diff']]\n",
    "df"
   ]
  },
  {
   "cell_type": "code",
   "execution_count": 17,
   "metadata": {},
   "outputs": [
    {
     "name": "stderr",
     "output_type": "stream",
     "text": [
      "Matplotlib is building the font cache; this may take a moment.\n"
     ]
    },
    {
     "data": {
      "text/plain": [
       "<Axes: xlabel='timestamp'>"
      ]
     },
     "execution_count": 17,
     "metadata": {},
     "output_type": "execute_result"
    },
    {
     "data": {
      "image/png": "[encoded data removed]",
      "text/plain": [
       "<Figure size 640x480 with 1 Axes>"
      ]
     },
     "metadata": {},
     "output_type": "display_data"
    }
   ],
   "source": [
    "df.plot(x='timestamp', y='diff', kind='line')"
   ]
  },
  {
   "cell_type": "code",
   "execution_count": 18,
   "metadata": {},
   "outputs": [],
   "source": [
    "def plotDiffOverTime(scan):\n",
    "    scan_filtered = list(filter(lambda x: x['label'] == 'Beacon Location Update', scan))\n",
    "    timestamps = np.full(len(scan_filtered), np.nan)\n",
    "    xs = np.full(len(scan_filtered), np.nan)\n",
    "    ys = np.full(len(scan_filtered), np.nan)\n",
    "    zs = np.full(len(scan_filtered), np.nan)\n",
    "    for i, entry in enumerate(scan_filtered):\n",
    "        timestamps[i] = entry['timestamp']\n",
    "        if 'position' not in entry['content']:\n",
    "            continue\n",
    "        position = entry['content']['position']\n",
    "        xs[i] = position[0]\n",
    "        ys[i] = position[1]\n",
    "        zs[i] = position[2]\n",
    "\n",
    "    timestamps = timestamps - min(timestamps)\n",
    "\n",
    "    df = pd.DataFrame({'timestamp': timestamps, 'x': xs, 'y': ys, 'z': zs})\n",
    "    df = df.dropna()\n",
    "    df['diff'] = np.sqrt((df['x'] - df['x'].shift(1))**2 + (df['y'] - df['y'].shift(1))**2 + (df['z'] - df['z'].shift(1))**2)\n",
    "    df = df[['timestamp', 'diff']]\n",
    "    df.plot(x='timestamp', y='diff', kind='line')"
   ]
  },
  {
   "cell_type": "code",
   "execution_count": 19,
   "metadata": {},
   "outputs": [
    {
     "data": {
      "image/png": "[encoded data removed]",
      "text/plain": [
       "<Figure size 640x480 with 1 Axes>"
      ]
     },
     "metadata": {},
     "output_type": "display_data"
    },
    {
     "data": {
      "image/png": "[encoded data removed]",
      "text/plain": [
       "<Figure size 640x480 with 1 Axes>"
      ]
     },
     "metadata": {},
     "output_type": "display_data"
    },
    {
     "data": {
      "image/png": "[encoded data removed]",
      "text/plain": [
       "<Figure size 640x480 with 1 Axes>"
      ]
     },
     "metadata": {},
     "output_type": "display_data"
    }
   ],
   "source": [
    "for scan in scans:\n",
    "    plotDiffOverTime(scan)"
   ]
  }
 ],
 "metadata": {
  "kernelspec": {
   "display_name": "Python 3",
   "language": "python",
   "name": "python3"
  },
  "language_info": {
   "codemirror_mode": {
    "name": "ipython",
    "version": 3
   },
   "file_extension": ".py",
   "mimetype": "text/x-python",
   "name": "python",
   "nbconvert_exporter": "python",
   "pygments_lexer": "ipython3",
   "version": "3.9.6"
  }
 },
 "nbformat": 4,
 "nbformat_minor": 2
}
